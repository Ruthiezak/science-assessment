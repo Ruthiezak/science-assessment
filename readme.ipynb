{
 "cells": [
  {
   "cell_type": "markdown",
   "metadata": {},
   "source": [
    "# Interview Assessment - Written\n",
    "\n",
    "Welcome to the FYR application for _Science_ at the UCL Data Science Society! This is an alternative assessment to the face-to-face or online interview.\n",
    "\n",
    "> ***Author***: Zhaoxuan \"Tony\" Wu - Head of _Science_ (20/21), UCL Data Science Society"
   ]
  },
  {
   "cell_type": "markdown",
   "metadata": {},
   "source": [
    "## Part 1: Workshop\n",
    "\n",
    "Please provide the URL to the GitHub repository where your workshop material is: \n",
    "\n",
    "Please ***briefly*** explain how you would teach each concept you proposed in your workshop material, think about what common mistakes and questions that beginners have. Also, consider the case when students ask you a question you don't have the answer to, and how you would respond."
   ]
  },
  {
   "cell_type": "markdown",
   "metadata": {},
   "source": [
    "## Part 2: Python\n",
    "\n",
    "Answer as many questions as you can. You can use internet or API documentations."
   ]
  },
  {
   "cell_type": "markdown",
   "metadata": {},
   "source": [
    "### Question 1\n",
    "\n",
    "Out of the following data types and objects, which are \"mutable\" and which are \"immutable\"?\n",
    "\n",
    "- `int`\n",
    "- `str`\n",
    "- `list`\n",
    "- `dict`\n",
    "- `tuple`\n",
    "\n",
    "> Hint: say if you have `text = \"hella world\"`, try, intuitive, to make `text = \"hello world`. Think about the result."
   ]
  },
  {
   "cell_type": "code",
   "execution_count": null,
   "metadata": {},
   "outputs": [],
   "source": [
    "# You can try your code here:\n",
    "\n",
    "text = \"hella world\" # Typo here!"
   ]
  },
  {
   "cell_type": "markdown",
   "metadata": {},
   "source": [
    "### Question 2\n",
    "\n",
    "Using list comprehension (list-comp) $a$ to make a list of powers of 2 (i.e. $a_i = 2^i$) upto the tenth element, starting from ($i=0$)"
   ]
  },
  {
   "cell_type": "code",
   "execution_count": null,
   "metadata": {},
   "outputs": [],
   "source": [
    "# Your code goes here:\n"
   ]
  },
  {
   "cell_type": "markdown",
   "metadata": {},
   "source": [
    "### Question 3\n",
    "\n",
    "Looking at the API documentation for [print()](https://docs.python.org/3/library/functions.html#print) built-in function, explain why the following code works even if the input are different types of data?"
   ]
  },
  {
   "cell_type": "code",
   "execution_count": 2,
   "metadata": {},
   "outputs": [
    {
     "name": "stdout",
     "output_type": "stream",
     "text": [
      "1 2 3.0\n"
     ]
    }
   ],
   "source": [
    "a = 1\n",
    "b = \"2\"\n",
    "c = 3.0\n",
    "\n",
    "print(a, b, c)"
   ]
  },
  {
   "cell_type": "markdown",
   "metadata": {},
   "source": [
    "Look at the API doc, how would you `print()` it like `1|2|3.0<END_OF_LINE>`?"
   ]
  },
  {
   "cell_type": "code",
   "execution_count": null,
   "metadata": {},
   "outputs": [],
   "source": [
    "a = 1\n",
    "b = \"2\"\n",
    "c = 3.0\n",
    "separator = \"|\"\n",
    "eol = \"<END_OF_LINE>\"\n",
    "\n",
    "# Your code goes here:\n"
   ]
  },
  {
   "cell_type": "markdown",
   "metadata": {},
   "source": [
    "## Part 3: Data Science\n",
    "\n",
    "Answer as many questions as you can"
   ]
  },
  {
   "cell_type": "markdown",
   "metadata": {},
   "source": [
    "### Question 1\n",
    "\n",
    "The target function for ***linear model regression*** is $y(x, w) = \\phi(x)^Tw$. Explain where the linearity comes from in this function. "
   ]
  },
  {
   "cell_type": "markdown",
   "metadata": {},
   "source": [
    "### Question 2\n",
    "\n",
    "What is the difference between ***data space*** and ***feature space***?\n",
    "\n",
    "> Hint: what does $\\phi$ do in the previous question?"
   ]
  },
  {
   "cell_type": "markdown",
   "metadata": {},
   "source": [
    "### Question 3\n",
    "\n",
    "Explain to me a machine learning algorithm of your choice in ***simple words***. Maths background upto A-Level Maths or Further Maths can be assumed. Maths notations can be used but do keep your explanation simple and comprehensive."
   ]
  },
  {
   "cell_type": "markdown",
   "metadata": {},
   "source": [
    "## Part 4: Show Time (Optional)\n",
    "\n",
    "If you have any cool stuffs you've ever built (doesn't have to be software/hardware or data-science-related), tell me about it! We'd love to see it"
   ]
  }
 ],
 "metadata": {
  "kernelspec": {
   "display_name": "Python 3",
   "language": "python",
   "name": "python3"
  },
  "language_info": {
   "codemirror_mode": {
    "name": "ipython",
    "version": 3
   },
   "file_extension": ".py",
   "mimetype": "text/x-python",
   "name": "python",
   "nbconvert_exporter": "python",
   "pygments_lexer": "ipython3",
   "version": "3.8.1"
  }
 },
 "nbformat": 4,
 "nbformat_minor": 4
}
